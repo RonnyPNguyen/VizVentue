{
 "cells": [
  {
   "cell_type": "code",
   "execution_count": 105,
   "metadata": {},
   "outputs": [],
   "source": [
    "import os\n",
    "import pandas as pd\n",
    "import json\n",
    "\n",
    "cwd = os.getcwd()"
   ]
  },
  {
   "cell_type": "code",
   "execution_count": 168,
   "metadata": {},
   "outputs": [],
   "source": [
    "altCoin = ['ethereum','tether', 'binance-usd','solana','usd-coin','ripple','dogecoin', 'cardano','avalance','shiba-inu']\n",
    "cryptoDaily = pd.read_csv(cwd + \"/cryptodailyprice/bitcoin.csv\")\n",
    "for coin in altCoin:\n",
    "    file_name = \"/cryptodailyprice/\" + coin + \".csv\"\n",
    "    file_path = cwd + file_name\n",
    "    \n",
    "    if os.path.isfile(file_path):\n",
    "        coin_data = pd.read_csv(file_path)\n",
    "        cryptoDaily = pd.concat([cryptoDaily, coin_data], ignore_index=True)\n",
    "cryptoDaily['date'] = pd.to_datetime(cryptoDaily['date'], format='mixed').dt.strftime('%Y-%m-%d')"
   ]
  },
  {
   "cell_type": "code",
   "execution_count": 170,
   "metadata": {},
   "outputs": [],
   "source": [
    "json_data = cryptoDaily.to_json(orient='records', indent=2)\n",
    "\n",
    "with open('watchList.json', 'w') as json_file:\n",
    "    json_file.write(json_data)"
   ]
  }
 ],
 "metadata": {
  "kernelspec": {
   "display_name": "Python 3",
   "language": "python",
   "name": "python3"
  },
  "language_info": {
   "codemirror_mode": {
    "name": "ipython",
    "version": 3
   },
   "file_extension": ".py",
   "mimetype": "text/x-python",
   "name": "python",
   "nbconvert_exporter": "python",
   "pygments_lexer": "ipython3",
   "version": "3.12.1"
  }
 },
 "nbformat": 4,
 "nbformat_minor": 2
}
